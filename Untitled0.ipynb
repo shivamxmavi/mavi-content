{
  "nbformat": 4,
  "nbformat_minor": 0,
  "metadata": {
    "colab": {
      "provenance": [],
      "authorship_tag": "ABX9TyMh7ZE30tz50VtQD6nFM5mL",
      "include_colab_link": true
    },
    "kernelspec": {
      "name": "python3",
      "display_name": "Python 3"
    },
    "language_info": {
      "name": "python"
    }
  },
  "cells": [
    {
      "cell_type": "markdown",
      "metadata": {
        "id": "view-in-github",
        "colab_type": "text"
      },
      "source": [
        "<a href=\"https://colab.research.google.com/github/shivamxmavi/mavi-content/blob/main/Untitled0.ipynb\" target=\"_parent\"><img src=\"https://colab.research.google.com/assets/colab-badge.svg\" alt=\"Open In Colab\"/></a>"
      ]
    },
    {
      "cell_type": "markdown",
      "source": [
        "## Hand Written Digit Prediction - Classification Analysis"
      ],
      "metadata": {
        "id": "DC734KJcY_Xt"
      }
    },
    {
      "cell_type": "markdown",
      "source": [
        "The digits dataset consists of 8x8 images of digits. The images attribitue of the dataset stores 8x8 arrays of grayscale values for each image. we will use these arrays to visualize the first 4 images. The target attribute of the dataset stores the digit each image represents"
      ],
      "metadata": {
        "id": "7YsC2jXHY_nD"
      }
    },
    {
      "cell_type": "markdown",
      "source": [
        "## Import Library"
      ],
      "metadata": {
        "id": "vHVq6npUZyws"
      }
    },
    {
      "cell_type": "code",
      "execution_count": null,
      "metadata": {
        "id": "DllgfGboY7_X"
      },
      "outputs": [],
      "source": [
        "import pandas as pd"
      ]
    },
    {
      "cell_type": "code",
      "source": [
        "import numpy as np"
      ],
      "metadata": {
        "id": "5Ra0-wYsZ4QC"
      },
      "execution_count": null,
      "outputs": []
    },
    {
      "cell_type": "code",
      "source": [
        "import matplotlib.pyplot as plt"
      ],
      "metadata": {
        "id": "_pQoBtcBZ8ek"
      },
      "execution_count": null,
      "outputs": []
    },
    {
      "cell_type": "markdown",
      "source": [
        "## Import Data"
      ],
      "metadata": {
        "id": "3u_9hwxJaAfg"
      }
    },
    {
      "cell_type": "code",
      "source": [
        "from sklearn.datasets import load_digits"
      ],
      "metadata": {
        "id": "k-c55BdSZ--L"
      },
      "execution_count": null,
      "outputs": []
    },
    {
      "cell_type": "code",
      "source": [
        "df = load_digits()"
      ],
      "metadata": {
        "id": "_7LXQslhaKeg"
      },
      "execution_count": null,
      "outputs": []
    },
    {
      "cell_type": "code",
      "source": [
        "_, axes = plt.subplots(nrows=1, ncols=4, figsize=(10, 3))\n",
        "for ax, image, label in zip(axes, df.images, df.target):\n",
        "    ax.set_axis_off()\n",
        "    ax.imshow(image, cmap=plt.cm.gray_r, interpolation='nearest')\n",
        "    ax.set_title('Training: %i' % label)"
      ],
      "metadata": {
        "colab": {
          "base_uri": "https://localhost:8080/",
          "height": 227
        },
        "id": "DQCwPwi6aOS0",
        "outputId": "df58f4de-ada6-48ca-c483-9dc16dfb97d0"
      },
      "execution_count": null,
      "outputs": [
        {
          "output_type": "display_data",
          "data": {
            "text/plain": [
              "<Figure size 1000x300 with 4 Axes>"
            ],
            "image/png": "[encoded data removed]"
          },
          "metadata": {}
        }
      ]
    },
    {
      "cell_type": "markdown",
      "source": [
        "## Data Processing"
      ],
      "metadata": {
        "id": "498dDO-caYRu"
      }
    },
    {
      "cell_type": "markdown",
      "source": [
        "Flatten Image\n",
        "\n",
        "\n",
        "\n",
        "\n",
        "#8x8 image\n",
        "\n",
        "\n",
        "![WhatsApp Image 2024-07-21 at 6.10.16 PM.jpeg](data:image/jpeg;base64,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)\n",
        "\n",
        "\n",
        "\n",
        "\n",
        "\n",
        "\n",
        "\n",
        "\n",
        "\n",
        "#Flatten image\n",
        "\n",
        "\n",
        "\n",
        "\n",
        "\n",
        "![WhatsApp Image 2024-07-21 at 6.12.26 PM.jpeg](data:image/jpeg;base64,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)"
      ],
      "metadata": {
        "id": "NuEvRcIlaX5-"
      }
    },
    {
      "cell_type": "code",
      "source": [
        "df.images.shape"
      ],
      "metadata": {
        "colab": {
          "base_uri": "https://localhost:8080/"
        },
        "id": "bmJ7_JAaaUZ2",
        "outputId": "cd75fa60-1bc5-4c3d-a25e-0d511d511eed"
      },
      "execution_count": null,
      "outputs": [
        {
          "output_type": "execute_result",
          "data": {
            "text/plain": [
              "(1797, 8, 8)"
            ]
          },
          "metadata": {},
          "execution_count": 7
        }
      ]
    },
    {
      "cell_type": "code",
      "source": [
        "df.images[0]"
      ],
      "metadata": {
        "colab": {
          "base_uri": "https://localhost:8080/"
        },
        "id": "ZIw5ViaWbFIJ",
        "outputId": "be0b5103-fb2d-4ee6-a1b5-834ceddb1424"
      },
      "execution_count": null,
      "outputs": [
        {
          "output_type": "execute_result",
          "data": {
            "text/plain": [
              "array([[ 0.,  0.,  5., 13.,  9.,  1.,  0.,  0.],\n",
              "       [ 0.,  0., 13., 15., 10., 15.,  5.,  0.],\n",
              "       [ 0.,  3., 15.,  2.,  0., 11.,  8.,  0.],\n",
              "       [ 0.,  4., 12.,  0.,  0.,  8.,  8.,  0.],\n",
              "       [ 0.,  5.,  8.,  0.,  0.,  9.,  8.,  0.],\n",
              "       [ 0.,  4., 11.,  0.,  1., 12.,  7.,  0.],\n",
              "       [ 0.,  2., 14.,  5., 10., 12.,  0.,  0.],\n",
              "       [ 0.,  0.,  6., 13., 10.,  0.,  0.,  0.]])"
            ]
          },
          "metadata": {},
          "execution_count": 8
        }
      ]
    },
    {
      "cell_type": "code",
      "source": [
        "df.images[0].shape"
      ],
      "metadata": {
        "colab": {
          "base_uri": "https://localhost:8080/"
        },
        "id": "wAnj9vEEbKnq",
        "outputId": "4e62d0d5-4bfc-48f8-9036-94e20fdd8067"
      },
      "execution_count": null,
      "outputs": [
        {
          "output_type": "execute_result",
          "data": {
            "text/plain": [
              "(8, 8)"
            ]
          },
          "metadata": {},
          "execution_count": 9
        }
      ]
    },
    {
      "cell_type": "code",
      "source": [
        "len(df.images)"
      ],
      "metadata": {
        "colab": {
          "base_uri": "https://localhost:8080/"
        },
        "id": "tpBufSMkbThM",
        "outputId": "d20019d7-b4ed-43ae-bfbf-0db530e49d6f"
      },
      "execution_count": null,
      "outputs": [
        {
          "output_type": "execute_result",
          "data": {
            "text/plain": [
              "1797"
            ]
          },
          "metadata": {},
          "execution_count": 10
        }
      ]
    },
    {
      "cell_type": "code",
      "source": [
        "n_samples = len(df.images)\n",
        "data = df.images.reshape((n_samples, -1))"
      ],
      "metadata": {
        "id": "hV-oGsDYbaFp"
      },
      "execution_count": null,
      "outputs": []
    },
    {
      "cell_type": "code",
      "source": [
        "data[0]"
      ],
      "metadata": {
        "colab": {
          "base_uri": "https://localhost:8080/"
        },
        "id": "piDhV8Xrbk9Z",
        "outputId": "c657cc87-58e5-4270-ef66-8566b41da904"
      },
      "execution_count": null,
      "outputs": [
        {
          "output_type": "execute_result",
          "data": {
            "text/plain": [
              "array([ 0.,  0.,  5., 13.,  9.,  1.,  0.,  0.,  0.,  0., 13., 15., 10.,\n",
              "       15.,  5.,  0.,  0.,  3., 15.,  2.,  0., 11.,  8.,  0.,  0.,  4.,\n",
              "       12.,  0.,  0.,  8.,  8.,  0.,  0.,  5.,  8.,  0.,  0.,  9.,  8.,\n",
              "        0.,  0.,  4., 11.,  0.,  1., 12.,  7.,  0.,  0.,  2., 14.,  5.,\n",
              "       10., 12.,  0.,  0.,  0.,  0.,  6., 13., 10.,  0.,  0.,  0.])"
            ]
          },
          "metadata": {},
          "execution_count": 12
        }
      ]
    },
    {
      "cell_type": "code",
      "source": [
        "data[0].shape"
      ],
      "metadata": {
        "colab": {
          "base_uri": "https://localhost:8080/"
        },
        "id": "iuG4Pn4sbn1_",
        "outputId": "8a00b4bf-23e8-4157-c2b1-8d0705d6b8b2"
      },
      "execution_count": null,
      "outputs": [
        {
          "output_type": "execute_result",
          "data": {
            "text/plain": [
              "(64,)"
            ]
          },
          "metadata": {},
          "execution_count": 13
        }
      ]
    },
    {
      "cell_type": "code",
      "source": [
        "data.shape"
      ],
      "metadata": {
        "colab": {
          "base_uri": "https://localhost:8080/"
        },
        "id": "FWLgASrJbtdC",
        "outputId": "d95af5f7-b106-432d-8225-1cf73f45a1b4"
      },
      "execution_count": null,
      "outputs": [
        {
          "output_type": "execute_result",
          "data": {
            "text/plain": [
              "(1797, 64)"
            ]
          },
          "metadata": {},
          "execution_count": 14
        }
      ]
    },
    {
      "cell_type": "markdown",
      "source": [
        "##Scaling Image Data"
      ],
      "metadata": {
        "id": "hVNroJefbyPi"
      }
    },
    {
      "cell_type": "code",
      "source": [
        "data.min()"
      ],
      "metadata": {
        "colab": {
          "base_uri": "https://localhost:8080/"
        },
        "id": "bQAEKz6XbxAY",
        "outputId": "12f9b7ab-1c07-428d-a6bc-eccd58acdf54"
      },
      "execution_count": null,
      "outputs": [
        {
          "output_type": "execute_result",
          "data": {
            "text/plain": [
              "0.0"
            ]
          },
          "metadata": {},
          "execution_count": 15
        }
      ]
    },
    {
      "cell_type": "code",
      "source": [
        "data.max()"
      ],
      "metadata": {
        "colab": {
          "base_uri": "https://localhost:8080/"
        },
        "id": "szTYJj8db61I",
        "outputId": "d23f7a20-dfc1-4ef3-abdf-3b002675b1f6"
      },
      "execution_count": null,
      "outputs": [
        {
          "output_type": "execute_result",
          "data": {
            "text/plain": [
              "16.0"
            ]
          },
          "metadata": {},
          "execution_count": 16
        }
      ]
    },
    {
      "cell_type": "code",
      "source": [
        "data = data/16"
      ],
      "metadata": {
        "id": "0aSQ93Uwb-2a"
      },
      "execution_count": null,
      "outputs": []
    },
    {
      "cell_type": "code",
      "source": [
        "data.min()"
      ],
      "metadata": {
        "colab": {
          "base_uri": "https://localhost:8080/"
        },
        "id": "-4EVQQYKcDUO",
        "outputId": "779e7afd-bba4-4238-a8ef-78f4c81e9fa5"
      },
      "execution_count": null,
      "outputs": [
        {
          "output_type": "execute_result",
          "data": {
            "text/plain": [
              "0.0"
            ]
          },
          "metadata": {},
          "execution_count": 18
        }
      ]
    },
    {
      "cell_type": "code",
      "source": [
        "data.max()"
      ],
      "metadata": {
        "colab": {
          "base_uri": "https://localhost:8080/"
        },
        "id": "1Kb0cvh4cF8F",
        "outputId": "b7f66770-777c-4e62-e0b2-e32509d99502"
      },
      "execution_count": null,
      "outputs": [
        {
          "output_type": "execute_result",
          "data": {
            "text/plain": [
              "1.0"
            ]
          },
          "metadata": {},
          "execution_count": 19
        }
      ]
    },
    {
      "cell_type": "code",
      "source": [
        "data[0]"
      ],
      "metadata": {
        "colab": {
          "base_uri": "https://localhost:8080/"
        },
        "id": "BMsIUdfjcI23",
        "outputId": "124be1dc-dfe4-4809-a0ae-0b9b0e3d8a46"
      },
      "execution_count": null,
      "outputs": [
        {
          "output_type": "execute_result",
          "data": {
            "text/plain": [
              "array([0.    , 0.    , 0.3125, 0.8125, 0.5625, 0.0625, 0.    , 0.    ,\n",
              "       0.    , 0.    , 0.8125, 0.9375, 0.625 , 0.9375, 0.3125, 0.    ,\n",
              "       0.    , 0.1875, 0.9375, 0.125 , 0.    , 0.6875, 0.5   , 0.    ,\n",
              "       0.    , 0.25  , 0.75  , 0.    , 0.    , 0.5   , 0.5   , 0.    ,\n",
              "       0.    , 0.3125, 0.5   , 0.    , 0.    , 0.5625, 0.5   , 0.    ,\n",
              "       0.    , 0.25  , 0.6875, 0.    , 0.0625, 0.75  , 0.4375, 0.    ,\n",
              "       0.    , 0.125 , 0.875 , 0.3125, 0.625 , 0.75  , 0.    , 0.    ,\n",
              "       0.    , 0.    , 0.375 , 0.8125, 0.625 , 0.    , 0.    , 0.    ])"
            ]
          },
          "metadata": {},
          "execution_count": 20
        }
      ]
    },
    {
      "cell_type": "markdown",
      "source": [
        "##Train Test Split Data"
      ],
      "metadata": {
        "id": "pZeDcLiUcOSx"
      }
    },
    {
      "cell_type": "code",
      "source": [
        "from sklearn.model_selection import train_test_split"
      ],
      "metadata": {
        "id": "wvF2w6LycMz7"
      },
      "execution_count": null,
      "outputs": []
    },
    {
      "cell_type": "code",
      "source": [
        "x_train, x_test, y_train, y_test = train_test_split(data, df.target, test_size=0.3,)"
      ],
      "metadata": {
        "id": "xFKRvNm1cZ8i"
      },
      "execution_count": null,
      "outputs": []
    },
    {
      "cell_type": "code",
      "source": [
        "x_train.shape, x_test.shape, y_train.shape, y_test.shape"
      ],
      "metadata": {
        "colab": {
          "base_uri": "https://localhost:8080/"
        },
        "id": "AOIphB7pcwHE",
        "outputId": "68f958ce-6e53-4811-d8f4-c52b961d75e8"
      },
      "execution_count": null,
      "outputs": [
        {
          "output_type": "execute_result",
          "data": {
            "text/plain": [
              "((1257, 64), (540, 64), (1257,), (540,))"
            ]
          },
          "metadata": {},
          "execution_count": 23
        }
      ]
    },
    {
      "cell_type": "markdown",
      "source": [
        "##Random Forest Model"
      ],
      "metadata": {
        "id": "wex1nUKhc35o"
      }
    },
    {
      "cell_type": "code",
      "source": [
        "from sklearn.ensemble import RandomForestClassifier"
      ],
      "metadata": {
        "id": "zrCYy6LEc5CC"
      },
      "execution_count": null,
      "outputs": []
    },
    {
      "cell_type": "code",
      "source": [
        "rf = RandomForestClassifier()"
      ],
      "metadata": {
        "id": "KcGRfzASc2gX"
      },
      "execution_count": null,
      "outputs": []
    },
    {
      "cell_type": "code",
      "source": [
        "rf.fit(x_train, y_train)"
      ],
      "metadata": {
        "colab": {
          "base_uri": "https://localhost:8080/",
          "height": 74
        },
        "id": "4CqiK7VxdH1s",
        "outputId": "b9070121-18ed-4850-a37e-bfdffd8777f2"
      },
      "execution_count": null,
      "outputs": [
        {
          "output_type": "execute_result",
          "data": {
            "text/plain": [
              "RandomForestClassifier()"
            ],
            "text/html": [
              "<style>#sk-container-id-1 {color: black;background-color: white;}#sk-container-id-1 pre{padding: 0;}#sk-container-id-1 div.sk-toggleable {background-color: white;}#sk-container-id-1 label.sk-toggleable__label {cursor: pointer;display: block;width: 100%;margin-bottom: 0;padding: 0.3em;box-sizing: border-box;text-align: center;}#sk-container-id-1 label.sk-toggleable__label-arrow:before {content: \"▸\";float: left;margin-right: 0.25em;color: #696969;}#sk-container-id-1 label.sk-toggleable__label-arrow:hover:before {color: black;}#sk-container-id-1 div.sk-estimator:hover label.sk-toggleable__label-arrow:before {color: black;}#sk-container-id-1 div.sk-toggleable__content {max-height: 0;max-width: 0;overflow: hidden;text-align: left;background-color: #f0f8ff;}#sk-container-id-1 div.sk-toggleable__content pre {margin: 0.2em;color: black;border-radius: 0.25em;background-color: #f0f8ff;}#sk-container-id-1 input.sk-toggleable__control:checked~div.sk-toggleable__content {max-height: 200px;max-width: 100%;overflow: auto;}#sk-container-id-1 input.sk-toggleable__control:checked~label.sk-toggleable__label-arrow:before {content: \"▾\";}#sk-container-id-1 div.sk-estimator input.sk-toggleable__control:checked~label.sk-toggleable__label {background-color: #d4ebff;}#sk-container-id-1 div.sk-label input.sk-toggleable__control:checked~label.sk-toggleable__label {background-color: #d4ebff;}#sk-container-id-1 input.sk-hidden--visually {border: 0;clip: rect(1px 1px 1px 1px);clip: rect(1px, 1px, 1px, 1px);height: 1px;margin: -1px;overflow: hidden;padding: 0;position: absolute;width: 1px;}#sk-container-id-1 div.sk-estimator {font-family: monospace;background-color: #f0f8ff;border: 1px dotted black;border-radius: 0.25em;box-sizing: border-box;margin-bottom: 0.5em;}#sk-container-id-1 div.sk-estimator:hover {background-color: #d4ebff;}#sk-container-id-1 div.sk-parallel-item::after {content: \"\";width: 100%;border-bottom: 1px solid gray;flex-grow: 1;}#sk-container-id-1 div.sk-label:hover label.sk-toggleable__label {background-color: #d4ebff;}#sk-container-id-1 div.sk-serial::before {content: \"\";position: absolute;border-left: 1px solid gray;box-sizing: border-box;top: 0;bottom: 0;left: 50%;z-index: 0;}#sk-container-id-1 div.sk-serial {display: flex;flex-direction: column;align-items: center;background-color: white;padding-right: 0.2em;padding-left: 0.2em;position: relative;}#sk-container-id-1 div.sk-item {position: relative;z-index: 1;}#sk-container-id-1 div.sk-parallel {display: flex;align-items: stretch;justify-content: center;background-color: white;position: relative;}#sk-container-id-1 div.sk-item::before, #sk-container-id-1 div.sk-parallel-item::before {content: \"\";position: absolute;border-left: 1px solid gray;box-sizing: border-box;top: 0;bottom: 0;left: 50%;z-index: -1;}#sk-container-id-1 div.sk-parallel-item {display: flex;flex-direction: column;z-index: 1;position: relative;background-color: white;}#sk-container-id-1 div.sk-parallel-item:first-child::after {align-self: flex-end;width: 50%;}#sk-container-id-1 div.sk-parallel-item:last-child::after {align-self: flex-start;width: 50%;}#sk-container-id-1 div.sk-parallel-item:only-child::after {width: 0;}#sk-container-id-1 div.sk-dashed-wrapped {border: 1px dashed gray;margin: 0 0.4em 0.5em 0.4em;box-sizing: border-box;padding-bottom: 0.4em;background-color: white;}#sk-container-id-1 div.sk-label label {font-family: monospace;font-weight: bold;display: inline-block;line-height: 1.2em;}#sk-container-id-1 div.sk-label-container {text-align: center;}#sk-container-id-1 div.sk-container {/* jupyter's `normalize.less` sets `[hidden] { display: none; }` but bootstrap.min.css set `[hidden] { display: none !important; }` so we also need the `!important` here to be able to override the default hidden behavior on the sphinx rendered scikit-learn.org. See: https://github.com/scikit-learn/scikit-learn/issues/21755 */display: inline-block !important;position: relative;}#sk-container-id-1 div.sk-text-repr-fallback {display: none;}</style><div id=\"sk-container-id-1\" class=\"sk-top-container\"><div class=\"sk-text-repr-fallback\"><pre>RandomForestClassifier()</pre><b>In a Jupyter environment, please rerun this cell to show the HTML representation or trust the notebook. <br />On GitHub, the HTML representation is unable to render, please try loading this page with nbviewer.org.</b></div><div class=\"sk-container\" hidden><div class=\"sk-item\"><div class=\"sk-estimator sk-toggleable\"><input class=\"sk-toggleable__control sk-hidden--visually\" id=\"sk-estimator-id-1\" type=\"checkbox\" checked><label for=\"sk-estimator-id-1\" class=\"sk-toggleable__label sk-toggleable__label-arrow\">RandomForestClassifier</label><div class=\"sk-toggleable__content\"><pre>RandomForestClassifier()</pre></div></div></div></div></div>"
            ]
          },
          "metadata": {},
          "execution_count": 26
        }
      ]
    },
    {
      "cell_type": "markdown",
      "source": [
        "##Predict Test Data"
      ],
      "metadata": {
        "id": "4o89UTbfdMuh"
      }
    },
    {
      "cell_type": "code",
      "source": [
        "y_pred = rf.predict(x_test)"
      ],
      "metadata": {
        "id": "zGD1J6OfdKWT"
      },
      "execution_count": null,
      "outputs": []
    },
    {
      "cell_type": "code",
      "source": [
        "y_pred"
      ],
      "metadata": {
        "colab": {
          "base_uri": "https://localhost:8080/"
        },
        "id": "oqBzwX8GdY_V",
        "outputId": "d9bd41bf-fa29-4b8e-8809-244034667cdc"
      },
      "execution_count": null,
      "outputs": [
        {
          "output_type": "execute_result",
          "data": {
            "text/plain": [
              "array([2, 4, 7, 6, 4, 1, 2, 3, 3, 3, 0, 2, 4, 8, 1, 6, 5, 8, 8, 1, 4, 1,\n",
              "       4, 0, 1, 7, 4, 8, 2, 3, 3, 5, 0, 3, 9, 0, 5, 9, 9, 3, 6, 7, 8, 9,\n",
              "       2, 5, 9, 9, 9, 8, 1, 6, 6, 0, 3, 5, 1, 2, 4, 0, 1, 3, 0, 2, 5, 4,\n",
              "       4, 8, 0, 6, 8, 8, 2, 2, 5, 6, 6, 5, 3, 7, 7, 6, 3, 4, 1, 3, 7, 0,\n",
              "       1, 6, 8, 5, 7, 1, 6, 8, 6, 6, 0, 6, 2, 6, 2, 9, 0, 3, 9, 2, 2, 3,\n",
              "       9, 4, 5, 3, 2, 4, 3, 8, 7, 3, 2, 1, 1, 1, 0, 2, 1, 9, 2, 2, 1, 5,\n",
              "       5, 5, 0, 4, 8, 0, 0, 6, 5, 0, 6, 8, 5, 8, 3, 8, 5, 7, 2, 7, 4, 7,\n",
              "       7, 3, 6, 0, 6, 0, 2, 2, 0, 1, 0, 5, 7, 2, 3, 7, 5, 0, 8, 3, 5, 1,\n",
              "       0, 4, 8, 3, 0, 5, 3, 4, 3, 4, 9, 6, 0, 2, 5, 5, 8, 8, 4, 5, 5, 8,\n",
              "       4, 9, 6, 1, 8, 2, 0, 7, 6, 2, 1, 7, 2, 7, 4, 6, 3, 0, 7, 0, 0, 3,\n",
              "       2, 5, 5, 4, 6, 0, 5, 8, 5, 8, 1, 0, 5, 8, 6, 9, 3, 8, 6, 3, 7, 6,\n",
              "       9, 6, 1, 8, 6, 4, 6, 0, 5, 1, 2, 6, 5, 9, 4, 6, 9, 1, 1, 9, 2, 4,\n",
              "       7, 0, 6, 9, 1, 8, 3, 1, 9, 1, 3, 3, 7, 7, 9, 3, 5, 6, 0, 6, 6, 1,\n",
              "       7, 4, 1, 8, 4, 6, 2, 9, 6, 1, 3, 8, 4, 3, 4, 9, 5, 0, 7, 8, 7, 3,\n",
              "       6, 2, 2, 3, 6, 5, 0, 8, 0, 8, 2, 8, 9, 5, 6, 5, 7, 6, 4, 0, 8, 7,\n",
              "       3, 3, 2, 3, 9, 3, 1, 8, 8, 6, 9, 7, 5, 2, 1, 4, 1, 9, 5, 3, 9, 8,\n",
              "       8, 3, 4, 0, 1, 8, 6, 0, 0, 7, 5, 3, 4, 9, 2, 7, 5, 7, 5, 9, 4, 3,\n",
              "       2, 9, 7, 2, 4, 2, 8, 9, 4, 0, 3, 7, 4, 9, 8, 9, 6, 5, 2, 6, 4, 7,\n",
              "       6, 3, 5, 6, 0, 0, 6, 1, 2, 9, 7, 1, 1, 8, 4, 4, 9, 2, 4, 5, 4, 6,\n",
              "       9, 3, 9, 6, 5, 9, 0, 1, 2, 8, 7, 4, 2, 7, 3, 5, 3, 1, 8, 2, 0, 3,\n",
              "       0, 4, 9, 6, 0, 9, 3, 6, 7, 4, 0, 9, 8, 0, 1, 9, 9, 3, 4, 6, 7, 1,\n",
              "       1, 2, 8, 7, 0, 7, 6, 3, 6, 6, 8, 9, 0, 5, 8, 1, 4, 1, 2, 5, 2, 4,\n",
              "       4, 0, 0, 5, 2, 8, 5, 7, 5, 6, 4, 3, 0, 1, 3, 2, 6, 1, 4, 7, 2, 7,\n",
              "       9, 4, 5, 7, 1, 8, 2, 2, 8, 3, 2, 7, 7, 9, 3, 3, 8, 9, 4, 2, 5, 3,\n",
              "       1, 5, 9, 5, 0, 7, 2, 1, 3, 7, 2, 4])"
            ]
          },
          "metadata": {},
          "execution_count": 28
        }
      ]
    },
    {
      "cell_type": "markdown",
      "source": [
        "##Model Accuracy"
      ],
      "metadata": {
        "id": "BRoAKCgIdgJq"
      }
    },
    {
      "cell_type": "code",
      "source": [
        "from sklearn.metrics import confusion_matrix, classification_report"
      ],
      "metadata": {
        "id": "R3fqidxHdcWp"
      },
      "execution_count": null,
      "outputs": []
    },
    {
      "cell_type": "code",
      "source": [
        "confusion_matrix(y_test, y_pred)"
      ],
      "metadata": {
        "colab": {
          "base_uri": "https://localhost:8080/"
        },
        "id": "nyjxWKpcdpUz",
        "outputId": "ace6ece2-1d6f-4f09-8372-9fc720e5cc77"
      },
      "execution_count": null,
      "outputs": [
        {
          "output_type": "execute_result",
          "data": {
            "text/plain": [
              "array([[55,  0,  0,  0,  0,  0,  0,  0,  0,  0],\n",
              "       [ 0, 47,  0,  0,  0,  0,  0,  0,  0,  0],\n",
              "       [ 0,  0, 57,  0,  0,  0,  0,  0,  0,  0],\n",
              "       [ 0,  0,  0, 60,  0,  1,  0,  0,  0,  0],\n",
              "       [ 0,  0,  0,  0, 53,  0,  0,  3,  0,  0],\n",
              "       [ 0,  0,  0,  0,  0, 53,  0,  0,  0,  0],\n",
              "       [ 0,  0,  0,  0,  0,  0, 59,  0,  0,  0],\n",
              "       [ 0,  0,  0,  0,  0,  0,  0, 45,  0,  1],\n",
              "       [ 0,  3,  0,  0,  0,  0,  0,  0, 52,  0],\n",
              "       [ 0,  0,  0,  0,  0,  1,  0,  1,  1, 48]])"
            ]
          },
          "metadata": {},
          "execution_count": 30
        }
      ]
    },
    {
      "cell_type": "code",
      "source": [
        "print(classification_report(y_test, y_pred))"
      ],
      "metadata": {
        "colab": {
          "base_uri": "https://localhost:8080/"
        },
        "id": "SKX91gjtdsRn",
        "outputId": "fad3225b-de7e-4611-f34f-dc20dfa501f1"
      },
      "execution_count": null,
      "outputs": [
        {
          "output_type": "stream",
          "name": "stdout",
          "text": [
            "              precision    recall  f1-score   support\n",
            "\n",
            "           0       1.00      1.00      1.00        55\n",
            "           1       0.94      1.00      0.97        47\n",
            "           2       1.00      1.00      1.00        57\n",
            "           3       1.00      0.98      0.99        61\n",
            "           4       1.00      0.95      0.97        56\n",
            "           5       0.96      1.00      0.98        53\n",
            "           6       1.00      1.00      1.00        59\n",
            "           7       0.92      0.98      0.95        46\n",
            "           8       0.98      0.95      0.96        55\n",
            "           9       0.98      0.94      0.96        51\n",
            "\n",
            "    accuracy                           0.98       540\n",
            "   macro avg       0.98      0.98      0.98       540\n",
            "weighted avg       0.98      0.98      0.98       540\n",
            "\n"
          ]
        }
      ]
    },
    {
      "cell_type": "code",
      "source": [],
      "metadata": {
        "id": "s3_CkU7AdyxT"
      },
      "execution_count": null,
      "outputs": []
    }
  ]
}